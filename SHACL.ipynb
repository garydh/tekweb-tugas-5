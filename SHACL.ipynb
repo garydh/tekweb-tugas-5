{
  "nbformat": 4,
  "nbformat_minor": 0,
  "metadata": {
    "colab": {
      "name": "tekweb ShaCL",
      "provenance": [],
      "collapsed_sections": []
    },
    "kernelspec": {
      "name": "python3",
      "display_name": "Python 3"
    }
  },
  "cells": [
    {
      "cell_type": "markdown",
      "metadata": {
        "id": "pIOrhHVm9_t5"
      },
      "source": [
        "# **Validasi Vocabulary untuk Dataset Lazada Indonesian Reviews**\n",
        "## Kontributor: Rakha Abadi Susilo, Gary Dimitri Hamidi, Nur Aini Rakhmawati\n",
        "## Email Kontributor: 05211840000102@mahasiswa.integra.its.ac.id, dimitri.18052@mhs.its.ac.id, nur.aini@is.its.ac.id\n",
        "## *Departemen Sistem Informasi, Institut Teknologi Sepuluh Nopember*"
      ]
    },
    {
      "cell_type": "markdown",
      "metadata": {
        "id": "6KVRK99rIKon"
      },
      "source": [
        "## **Abstrak**\n",
        "\n",
        "Lazada merupakan salah satu *e-commerce* terbesar di dunia. Salah satu negara di mana Lazada menyediakan jasa mereka adalah di Indonesia. Di Indonesia, Lazada menengahi berbagai transaksi dalam berbagai bidang, salah satunya adalah barang elektronik. Pada paper ini dilakukan validasi terhadap *vocabulary* produk-produk elektronik yang ada di Lazada yang telah dibuat sebelumnya untuk mempelajari bagaimana SHACL melakukan validasi*vocabulary*.Pada penelitian ini  validasi *vocabulary* dilakukan dengan *Shapes Constraint Language* (SHACL). Aturan SHACL dibuat terlebih dahulu untuk menentukan batasan-batasan pada *vocabulary*, lalu dibuat dua *instance*: satu *instance* invalid (yang menyalahi aturan) dan satu *instance* valid (yang sesuai dengan aturan). Dibuat dua instance untuk melihat perbedaan hasil SHACL antara *instance* dengan aturan yang benar dan salah.\n",
        "\n",
        "\n",
        "***Keyword: lazada, shacl, turtle, vocabulary, xml.***"
      ]
    },
    {
      "cell_type": "markdown",
      "metadata": {
        "id": "jP3LhyBD_8J_"
      },
      "source": [
        "## **Vocabulary**"
      ]
    },
    {
      "cell_type": "markdown",
      "metadata": {
        "id": "IP5ngafKOrAH"
      },
      "source": [
        "\n",
        "Vocabulary ini terdiri atas 4 class dan 9 properti. Vocabulary ini dapat diakses pada [3] dan dataset dapat diakses pada [2].\n"
      ]
    },
    {
      "cell_type": "markdown",
      "metadata": {
        "id": "CN2aa61HO0P5"
      },
      "source": [
        "#### **Classes**"
      ]
    },
    {
      "cell_type": "markdown",
      "metadata": {
        "id": "5H4HVmi4NPYP"
      },
      "source": [
        "* **gr:SomeItems**. Contoh: beli-smart-tv. Propertinya adalah:\n",
        " * **gr:category [xsd:string]**: beli-smart-tv category \"beli-smart-tv\".\n",
        " * **gr:hasBrand [gr:Brand]**: beli-smart-tv hasBrand Toshiba.\n",
        "\n",
        "<br>\n",
        "\n",
        "* **gr:Brand**. Contoh: Toshiba. Propertinya adalah:\n",
        " * **gr:name [xsd:string]**: Toshiba name \"Toshiba\".\n",
        "\n",
        "<br>\n",
        "\n",
        "* **gr:UnitPriceSpecification**. Contoh: Harga. Propertinya adalah:\n",
        " * **gr:hasCurrencyValue [xsd:currency]**.\n",
        "\n",
        "<br>\n",
        "\n",
        "* **gr:ProductOrServiceModel**. Contoh: TOSHIBA_Smart_HD_LED_TV_32. Propertinya adalah: \n",
        " * **gr:name [xsd:string]**: TOSHIBA_Smart_HD_LED_TV_32 name \"TOSHIBA Smart HD LED TV 32\".\n",
        " * **gr:hasBrand [xsd:string]**: TOSHIBA_Smart_HD_LED_TV_32 hasBrand Toshiba.\n",
        " * **gr:hasPriceSpecification [gr:UnitPriceSpecification]**: TOSHIBA_Smart_HD_LED_TV_32 hasPriceSpecification Harga.\n",
        " * **s:aggregateRating [s:AggregateRating; s:ratingValue; s:reviewCount]**: TOSHIBA_Smart_HD_LED_TV_32 AggregateRating; TOSHIBA_Smart_HD_LED_TV_32 ratingValue 4; TOSHIBA_Smart_HD_LED_TV_32 reviewCount 8.\n",
        " * **s:dateCreated [xsd:date]**: TOSHIBA_Smart_HD_LED_TV_32 dateCreated 2019-10-02."
      ]
    },
    {
      "cell_type": "markdown",
      "metadata": {
        "id": "62YsfOUvOgel"
      },
      "source": [
        "#### **Instance**\n",
        "\n",
        "Berikut merupakan salah satu instance berdasarkan class dan properti sebelumnya beserta graphnya.\n",
        "\n",
        "<br>\n"
      ]
    },
    {
      "cell_type": "code",
      "metadata": {
        "colab": {
          "base_uri": "https://localhost:8080/",
          "height": 111
        },
        "id": "Oi2QEUarfbcm",
        "outputId": "27c97181-9548-4fd5-ebf9-f70fc89dea9a"
      },
      "source": [
        "!pip3 install --no-input --quiet jupyter-rdfify\n",
        "%reload_ext jupyter-rdfify"
      ],
      "execution_count": null,
      "outputs": [
        {
          "output_type": "stream",
          "name": "stdout",
          "text": [
            "\u001b[31mERROR: pip's dependency resolver does not currently take into account all the packages that are installed. This behaviour is the source of the following dependency conflicts.\n",
            "pyshacl 0.17.0.post2 requires rdflib<7,>=6.0.0, but you have rdflib 5.0.0 which is incompatible.\u001b[0m\n"
          ]
        },
        {
          "output_type": "stream",
          "name": "stderr",
          "text": [
            "/usr/local/lib/python3.7/dist-packages/rdflib_jsonld/__init__.py:12: DeprecationWarning: The rdflib-jsonld package has been integrated into rdflib as of rdflib==6.0.1.  Please remove rdflib-jsonld from your project's dependencies.\n",
            "  DeprecationWarning,\n"
          ]
        },
        {
          "output_type": "display_data",
          "data": {
            "application/javascript": [
              "\n",
              "    if (typeof IPython !== \"undefined\") {\n",
              "        IPython.CodeCell.options_default.highlight_modes['application/sparql-query'] = {'reg':[/^%%rdf sparql/]};\n",
              "        IPython.CodeCell.options_default.highlight_modes['text/turtle'] = {'reg':[/^%%rdf turtle/, /^%%rdf shex/]};\n",
              "        IPython.CodeCell.options_default.highlight_modes['application/ld+json'] = {'reg':[/^%%rdf json-ld/]};\n",
              "        IPython.notebook.get_cells().map(function(cell){ if (cell.cell_type == 'code'){ cell.auto_highlight(); } });\n",
              "    }\n",
              "    "
            ]
          },
          "metadata": {}
        }
      ]
    },
    {
      "cell_type": "code",
      "metadata": {
        "colab": {
          "base_uri": "https://localhost:8080/",
          "height": 331
        },
        "id": "ZYxb2fp7xLaY",
        "outputId": "a7c96518-c465-4150-ee9d-6666330e7386"
      },
      "source": [
        "%%rdf turtle\n",
        "@prefix rdfs: <http://www.w3.org/2000/01/rdf-schema#> .\n",
        "@prefix rdf: <http://www.w3.org/1999/02/22-rdf-syntax-ns#> .\n",
        "@prefix xsd: <http://www.w3.org/2001/XMLSchema#> .\n",
        "@prefix ex: <http://example.com/> .\n",
        "@prefix gr: <http://purl.org/goodrelations/v1#> .\n",
        "@prefix foaf: <http://xmlns.com/foaf/0.1/> .\n",
        "@prefix s: <http://schema.org/> .\n",
        "\n",
        "ex:beli-smart-tv a gr:SomeItems;\n",
        "  gr:category \"beli-smart-tv\"^^xsd:string;\n",
        "  gr:hasBrand ex:Toshiba .\n",
        "\n",
        "ex:Toshiba a gr:Brand;\n",
        "    gr:name \"Toshiba\"^^xsd:string.\n",
        "\n",
        "ex:Harga a gr:UnitPriceSpecification;\n",
        "  gr:hasCurrencyValue \"3788000\"^^xsd:integer.\n",
        "\n",
        "ex:TOSHIBA_Smart_HD_LED_TV_40 a gr:ProductOrServiceModel;\n",
        "  gr:name \"TOSHIBA Smart HD LED TV 40\"^^xsd:string;\n",
        "  gr:hasBrand ex:Toshiba;\n",
        "  gr:hasPriceSpecification ex:Harga;\n",
        "  foaf:page <https://www.lazada.co.id/products/toshiba-smart-hd-led-tv-40.html>;\n",
        "  s:aggregateRating [ a s:AggregateRating;\n",
        "                         s:ratingValue \"3\"^^xsd:integer;\n",
        "                         s:reviewCount \"3\"^^xsd:integer;\n",
        "                          ];\n",
        "  s:dateCreated \"2019-10-02\"^^xsd:date.\n"
      ],
      "execution_count": null,
      "outputs": [
        {
          "output_type": "display_data",
          "data": {
            "text/plain": [
              "<graphviz.dot.Digraph at 0x7f1c75f83910>"
            ],
            "image/svg+xml": "<?xml version=\"1.0\" encoding=\"UTF-8\" standalone=\"no\"?>\n<!DOCTYPE svg PUBLIC \"-//W3C//DTD SVG 1.1//EN\"\n \"http://www.w3.org/Graphics/SVG/1.1/DTD/svg11.dtd\">\n<!-- Generated by graphviz version 2.40.1 (20161225.0304)\n -->\n<!-- Title: %3 Pages: 1 -->\n<svg width=\"2017pt\" height=\"218pt\"\n viewBox=\"0.00 0.00 2016.94 218.00\" xmlns=\"http://www.w3.org/2000/svg\" xmlns:xlink=\"http://www.w3.org/1999/xlink\">\n<g id=\"graph0\" class=\"graph\" transform=\"scale(1 1) rotate(0) translate(4 214)\">\n<title>%3</title>\n<polygon fill=\"#ffffff\" stroke=\"transparent\" points=\"-4,4 -4,-214 2012.9429,-214 2012.9429,4 -4,4\"/>\n<!-- 0 -->\n<g id=\"node1\" class=\"node\">\n<title>0</title>\n<ellipse fill=\"none\" stroke=\"#000000\" cx=\"802.9429\" cy=\"-192\" rx=\"163.5712\" ry=\"18\"/>\n<text text-anchor=\"middle\" x=\"802.9429\" y=\"-188.3\" font-family=\"Times,serif\" font-size=\"14.00\" fill=\"#000000\">ex:TOSHIBA_Smart_HD_LED_TV_40</text>\n</g>\n<!-- 1 -->\n<g id=\"node2\" class=\"node\">\n<title>1</title>\n<ellipse fill=\"none\" stroke=\"#000000\" cx=\"148.9429\" cy=\"-105\" rx=\"32.4942\" ry=\"18\"/>\n<text text-anchor=\"middle\" x=\"148.9429\" y=\"-101.3\" font-family=\"Times,serif\" font-size=\"14.00\" fill=\"#000000\">_:bn0</text>\n</g>\n<!-- 0&#45;&gt;1 -->\n<g id=\"edge3\" class=\"edge\">\n<title>0&#45;&gt;1</title>\n<path fill=\"none\" stroke=\"#000000\" d=\"M667.5168,-181.8218C514.9263,-169.4607 276.855,-147.2362 189.9429,-123 187.5186,-122.324 185.0518,-121.531 182.5919,-120.6616\"/>\n<polygon fill=\"#000000\" stroke=\"#000000\" points=\"183.8321,-117.3885 173.2438,-117.0144 181.2877,-123.9098 183.8321,-117.3885\"/>\n<text text-anchor=\"middle\" x=\"432.4429\" y=\"-144.8\" font-family=\"Times,serif\" font-size=\"14.00\" fill=\"#000000\">s:aggregateRating</text>\n</g>\n<!-- 4 -->\n<g id=\"node5\" class=\"node\">\n<title>4</title>\n<polygon fill=\"none\" stroke=\"#000000\" points=\"496.4429,-123 199.4429,-123 199.4429,-87 496.4429,-87 496.4429,-123\"/>\n<text text-anchor=\"middle\" x=\"347.9429\" y=\"-101.3\" font-family=\"Times,serif\" font-size=\"14.00\" fill=\"#000000\">&quot;TOSHIBA Smart HD LED TV 40&quot;^^xsd:string</text>\n</g>\n<!-- 0&#45;&gt;4 -->\n<g id=\"edge10\" class=\"edge\">\n<title>0&#45;&gt;4</title>\n<path fill=\"none\" stroke=\"#000000\" d=\"M721.0725,-176.3457C645.8696,-161.9662 534.0403,-140.5835 452.4219,-124.9773\"/>\n<polygon fill=\"#000000\" stroke=\"#000000\" points=\"452.5999,-121.448 442.1205,-123.0076 451.2852,-128.3235 452.5999,-121.448\"/>\n<text text-anchor=\"middle\" x=\"626.4429\" y=\"-144.8\" font-family=\"Times,serif\" font-size=\"14.00\" fill=\"#000000\">gr:name</text>\n</g>\n<!-- 7 -->\n<g id=\"node8\" class=\"node\">\n<title>7</title>\n<polygon fill=\"none\" stroke=\"#000000\" points=\"672.9429,-123 514.9429,-123 514.9429,-87 672.9429,-87 672.9429,-123\"/>\n<text text-anchor=\"middle\" x=\"593.9429\" y=\"-101.3\" font-family=\"Times,serif\" font-size=\"14.00\" fill=\"#000000\">&quot;2019&#45;10&#45;02&quot;^^xsd:date</text>\n</g>\n<!-- 0&#45;&gt;7 -->\n<g id=\"edge16\" class=\"edge\">\n<title>0&#45;&gt;7</title>\n<path fill=\"none\" stroke=\"#000000\" d=\"M760.9,-174.4989C728.1037,-160.8468 682.3434,-141.7983 647.0224,-127.0953\"/>\n<polygon fill=\"#000000\" stroke=\"#000000\" points=\"647.9335,-123.6835 637.3564,-123.0716 645.2434,-130.1459 647.9335,-123.6835\"/>\n<text text-anchor=\"middle\" x=\"749.9429\" y=\"-144.8\" font-family=\"Times,serif\" font-size=\"14.00\" fill=\"#000000\">s:dateCreated</text>\n</g>\n<!-- 10 -->\n<g id=\"node11\" class=\"node\">\n<title>10</title>\n<ellipse fill=\"none\" stroke=\"#000000\" cx=\"802.9429\" cy=\"-105\" rx=\"111.5806\" ry=\"18\"/>\n<text text-anchor=\"middle\" x=\"802.9429\" y=\"-101.3\" font-family=\"Times,serif\" font-size=\"14.00\" fill=\"#000000\">gr:ProductOrServiceModel</text>\n</g>\n<!-- 0&#45;&gt;10 -->\n<g id=\"edge1\" class=\"edge\">\n<title>0&#45;&gt;10</title>\n<path fill=\"none\" stroke=\"#000000\" d=\"M802.9429,-173.9735C802.9429,-162.1918 802.9429,-146.5607 802.9429,-133.1581\"/>\n<polygon fill=\"#000000\" stroke=\"#000000\" points=\"806.443,-133.0033 802.9429,-123.0034 799.443,-133.0034 806.443,-133.0033\"/>\n<text text-anchor=\"middle\" x=\"825.9429\" y=\"-144.8\" font-family=\"Times,serif\" font-size=\"14.00\" fill=\"#000000\">rdf:type</text>\n</g>\n<!-- 11 -->\n<g id=\"node12\" class=\"node\">\n<title>11</title>\n<ellipse fill=\"none\" stroke=\"#000000\" cx=\"976.9429\" cy=\"-105\" rx=\"44.393\" ry=\"18\"/>\n<text text-anchor=\"middle\" x=\"976.9429\" y=\"-101.3\" font-family=\"Times,serif\" font-size=\"14.00\" fill=\"#000000\">ex:Harga</text>\n</g>\n<!-- 0&#45;&gt;11 -->\n<g id=\"edge9\" class=\"edge\">\n<title>0&#45;&gt;11</title>\n<path fill=\"none\" stroke=\"#000000\" d=\"M838.1544,-174.3943C867.6347,-159.6541 909.5886,-138.6772 939.6398,-123.6516\"/>\n<polygon fill=\"#000000\" stroke=\"#000000\" points=\"941.5685,-126.6004 948.9476,-118.9977 938.438,-120.3394 941.5685,-126.6004\"/>\n<text text-anchor=\"middle\" x=\"969.9429\" y=\"-144.8\" font-family=\"Times,serif\" font-size=\"14.00\" fill=\"#000000\">gr:hasPriceSpecification</text>\n</g>\n<!-- 14 -->\n<g id=\"node15\" class=\"node\">\n<title>14</title>\n<ellipse fill=\"none\" stroke=\"#000000\" cx=\"1297.9429\" cy=\"-105\" rx=\"258.8542\" ry=\"18\"/>\n<text text-anchor=\"start\" x=\"1106.9429\" y=\"-101.3\" font-family=\"Times,serif\" font-size=\"14.00\" fill=\"#000000\">https://www.lazada.co.id/products/toshiba&#45;smart&#45;hd&#45;led&#45;tv&#45;40.html</text>\n</g>\n<!-- 0&#45;&gt;14 -->\n<g id=\"edge11\" class=\"edge\">\n<title>0&#45;&gt;14</title>\n<path fill=\"none\" stroke=\"#000000\" d=\"M904.7167,-177.8479C947.4802,-171.6127 997.7048,-163.9119 1042.9429,-156 1097.759,-146.413 1158.9039,-134.235 1207.5758,-124.1835\"/>\n<polygon fill=\"#000000\" stroke=\"#000000\" points=\"1208.3694,-127.5935 1217.4516,-122.1378 1206.9495,-120.739 1208.3694,-127.5935\"/>\n<text text-anchor=\"middle\" x=\"1147.9429\" y=\"-144.8\" font-family=\"Times,serif\" font-size=\"14.00\" fill=\"#000000\">foaf:page</text>\n</g>\n<!-- 16 -->\n<g id=\"node17\" class=\"node\">\n<title>16</title>\n<ellipse fill=\"none\" stroke=\"#000000\" cx=\"1626.9429\" cy=\"-105\" rx=\"51.9908\" ry=\"18\"/>\n<text text-anchor=\"middle\" x=\"1626.9429\" y=\"-101.3\" font-family=\"Times,serif\" font-size=\"14.00\" fill=\"#000000\">ex:Toshiba</text>\n</g>\n<!-- 0&#45;&gt;16 -->\n<g id=\"edge7\" class=\"edge\">\n<title>0&#45;&gt;16</title>\n<path fill=\"none\" stroke=\"#000000\" d=\"M960.188,-186.8109C1115.3399,-179.5775 1358.7021,-162.5478 1565.9429,-123 1570.3321,-122.1624 1574.858,-121.1398 1579.3677,-120.0116\"/>\n<polygon fill=\"#000000\" stroke=\"#000000\" points=\"1580.393,-123.3606 1589.1549,-117.4041 1578.5908,-116.5966 1580.393,-123.3606\"/>\n<text text-anchor=\"middle\" x=\"1477.9429\" y=\"-144.8\" font-family=\"Times,serif\" font-size=\"14.00\" fill=\"#000000\">gr:hasBrand</text>\n</g>\n<!-- 9 -->\n<g id=\"node10\" class=\"node\">\n<title>9</title>\n<ellipse fill=\"none\" stroke=\"#000000\" cx=\"79.9429\" cy=\"-18\" rx=\"79.8859\" ry=\"18\"/>\n<text text-anchor=\"middle\" x=\"79.9429\" y=\"-14.3\" font-family=\"Times,serif\" font-size=\"14.00\" fill=\"#000000\">s:AggregateRating</text>\n</g>\n<!-- 1&#45;&gt;9 -->\n<g id=\"edge13\" class=\"edge\">\n<title>1&#45;&gt;9</title>\n<path fill=\"none\" stroke=\"#000000\" d=\"M119.5755,-97.1428C105.3293,-91.7049 89.4853,-82.8784 80.9429,-69 76.8579,-62.3633 75.4632,-54.2629 75.3918,-46.4894\"/>\n<polygon fill=\"#000000\" stroke=\"#000000\" points=\"78.9002,-46.4462 75.9865,-36.2599 71.912,-46.0399 78.9002,-46.4462\"/>\n<text text-anchor=\"middle\" x=\"103.9429\" y=\"-57.8\" font-family=\"Times,serif\" font-size=\"14.00\" fill=\"#000000\">rdf:type</text>\n</g>\n<!-- 13 -->\n<g id=\"node14\" class=\"node\">\n<title>13</title>\n<polygon fill=\"none\" stroke=\"#000000\" points=\"301.4429,-36 188.4429,-36 188.4429,0 301.4429,0 301.4429,-36\"/>\n<text text-anchor=\"middle\" x=\"244.9429\" y=\"-14.3\" font-family=\"Times,serif\" font-size=\"14.00\" fill=\"#000000\">&quot;3&quot;^^xsd:integer</text>\n</g>\n<!-- 1&#45;&gt;13 -->\n<g id=\"edge2\" class=\"edge\">\n<title>1&#45;&gt;13</title>\n<path fill=\"none\" stroke=\"#000000\" d=\"M144.6102,-86.9358C143.155,-76.4138 143.3092,-63.4093 149.9429,-54 154.1129,-48.0853 165.3713,-42.2633 178.7452,-37.0824\"/>\n<polygon fill=\"#000000\" stroke=\"#000000\" points=\"180.0854,-40.3193 188.2809,-33.6048 177.687,-33.7429 180.0854,-40.3193\"/>\n<text text-anchor=\"middle\" x=\"191.9429\" y=\"-57.8\" font-family=\"Times,serif\" font-size=\"14.00\" fill=\"#000000\">s:reviewCount</text>\n</g>\n<!-- 1&#45;&gt;13 -->\n<g id=\"edge17\" class=\"edge\">\n<title>1&#45;&gt;13</title>\n<path fill=\"none\" stroke=\"#000000\" d=\"M174.4887,-93.6654C179.5973,-91.4324 184.9329,-89.1241 189.9429,-87 209.3954,-78.7526 220.3726,-85.1947 233.9429,-69 239.2605,-62.654 242.1831,-54.3379 243.7431,-46.2675\"/>\n<polygon fill=\"#000000\" stroke=\"#000000\" points=\"247.2139,-46.7185 245.068,-36.3432 240.2754,-45.7921 247.2139,-46.7185\"/>\n<text text-anchor=\"middle\" x=\"279.4429\" y=\"-57.8\" font-family=\"Times,serif\" font-size=\"14.00\" fill=\"#000000\">s:ratingValue</text>\n</g>\n<!-- 2 -->\n<g id=\"node3\" class=\"node\">\n<title>2</title>\n<ellipse fill=\"none\" stroke=\"#000000\" cx=\"1758.9429\" cy=\"-105\" rx=\"62.2891\" ry=\"18\"/>\n<text text-anchor=\"middle\" x=\"1758.9429\" y=\"-101.3\" font-family=\"Times,serif\" font-size=\"14.00\" fill=\"#000000\">gr:SomeItems</text>\n</g>\n<!-- 3 -->\n<g id=\"node4\" class=\"node\">\n<title>3</title>\n<polygon fill=\"none\" stroke=\"#000000\" points=\"2008.9429,-123 1838.9429,-123 1838.9429,-87 2008.9429,-87 2008.9429,-123\"/>\n<text text-anchor=\"middle\" x=\"1923.9429\" y=\"-101.3\" font-family=\"Times,serif\" font-size=\"14.00\" fill=\"#000000\">&quot;beli&#45;smart&#45;tv&quot;^^xsd:string</text>\n</g>\n<!-- 5 -->\n<g id=\"node6\" class=\"node\">\n<title>5</title>\n<ellipse fill=\"none\" stroke=\"#000000\" cx=\"1559.9429\" cy=\"-18\" rx=\"44.393\" ry=\"18\"/>\n<text text-anchor=\"middle\" x=\"1559.9429\" y=\"-14.3\" font-family=\"Times,serif\" font-size=\"14.00\" fill=\"#000000\">gr:Brand</text>\n</g>\n<!-- 6 -->\n<g id=\"node7\" class=\"node\">\n<title>6</title>\n<ellipse fill=\"none\" stroke=\"#000000\" cx=\"1758.9429\" cy=\"-192\" rx=\"68.7879\" ry=\"18\"/>\n<text text-anchor=\"middle\" x=\"1758.9429\" y=\"-188.3\" font-family=\"Times,serif\" font-size=\"14.00\" fill=\"#000000\">ex:beli&#45;smart&#45;tv</text>\n</g>\n<!-- 6&#45;&gt;2 -->\n<g id=\"edge8\" class=\"edge\">\n<title>6&#45;&gt;2</title>\n<path fill=\"none\" stroke=\"#000000\" d=\"M1758.9429,-173.9735C1758.9429,-162.1918 1758.9429,-146.5607 1758.9429,-133.1581\"/>\n<polygon fill=\"#000000\" stroke=\"#000000\" points=\"1762.443,-133.0033 1758.9429,-123.0034 1755.443,-133.0034 1762.443,-133.0033\"/>\n<text text-anchor=\"middle\" x=\"1781.9429\" y=\"-144.8\" font-family=\"Times,serif\" font-size=\"14.00\" fill=\"#000000\">rdf:type</text>\n</g>\n<!-- 6&#45;&gt;3 -->\n<g id=\"edge15\" class=\"edge\">\n<title>6&#45;&gt;3</title>\n<path fill=\"none\" stroke=\"#000000\" d=\"M1789.5914,-175.8399C1815.2406,-162.3158 1852.1346,-142.8626 1880.7736,-127.762\"/>\n<polygon fill=\"#000000\" stroke=\"#000000\" points=\"1882.5439,-130.7854 1889.7571,-123.0252 1879.279,-124.5934 1882.5439,-130.7854\"/>\n<text text-anchor=\"middle\" x=\"1884.4429\" y=\"-144.8\" font-family=\"Times,serif\" font-size=\"14.00\" fill=\"#000000\">gr:category</text>\n</g>\n<!-- 6&#45;&gt;16 -->\n<g id=\"edge5\" class=\"edge\">\n<title>6&#45;&gt;16</title>\n<path fill=\"none\" stroke=\"#000000\" d=\"M1722.4947,-176.6498C1710.1767,-170.8482 1696.6001,-163.755 1684.9429,-156 1673.315,-148.2645 1661.5479,-138.3813 1651.6797,-129.3784\"/>\n<polygon fill=\"#000000\" stroke=\"#000000\" points=\"1653.9094,-126.6717 1644.2117,-122.4049 1649.1319,-131.788 1653.9094,-126.6717\"/>\n<text text-anchor=\"middle\" x=\"1719.9429\" y=\"-144.8\" font-family=\"Times,serif\" font-size=\"14.00\" fill=\"#000000\">gr:hasBrand</text>\n</g>\n<!-- 8 -->\n<g id=\"node9\" class=\"node\">\n<title>8</title>\n<ellipse fill=\"none\" stroke=\"#000000\" cx=\"872.9429\" cy=\"-18\" rx=\"104.7816\" ry=\"18\"/>\n<text text-anchor=\"middle\" x=\"872.9429\" y=\"-14.3\" font-family=\"Times,serif\" font-size=\"14.00\" fill=\"#000000\">gr:UnitPriceSpecification</text>\n</g>\n<!-- 11&#45;&gt;8 -->\n<g id=\"edge14\" class=\"edge\">\n<title>11&#45;&gt;8</title>\n<path fill=\"none\" stroke=\"#000000\" d=\"M957.3813,-88.636C941.7675,-75.5744 919.657,-57.0781 901.9781,-42.289\"/>\n<polygon fill=\"#000000\" stroke=\"#000000\" points=\"904.1223,-39.5196 894.2064,-35.7878 899.6308,-44.8887 904.1223,-39.5196\"/>\n<text text-anchor=\"middle\" x=\"954.9429\" y=\"-57.8\" font-family=\"Times,serif\" font-size=\"14.00\" fill=\"#000000\">rdf:type</text>\n</g>\n<!-- 12 -->\n<g id=\"node13\" class=\"node\">\n<title>12</title>\n<polygon fill=\"none\" stroke=\"#000000\" points=\"1163.9429,-36 995.9429,-36 995.9429,0 1163.9429,0 1163.9429,-36\"/>\n<text text-anchor=\"middle\" x=\"1079.9429\" y=\"-14.3\" font-family=\"Times,serif\" font-size=\"14.00\" fill=\"#000000\">&quot;3788000&quot;^^xsd:currency</text>\n</g>\n<!-- 11&#45;&gt;12 -->\n<g id=\"edge4\" class=\"edge\">\n<title>11&#45;&gt;12</title>\n<path fill=\"none\" stroke=\"#000000\" d=\"M996.3164,-88.636C1011.6791,-75.6598 1033.3921,-57.3196 1050.8431,-42.5795\"/>\n<polygon fill=\"#000000\" stroke=\"#000000\" points=\"1053.142,-45.2191 1058.5231,-36.0925 1048.6251,-39.8715 1053.142,-45.2191\"/>\n<text text-anchor=\"middle\" x=\"1095.4429\" y=\"-57.8\" font-family=\"Times,serif\" font-size=\"14.00\" fill=\"#000000\">gr:hasCurrencyValue</text>\n</g>\n<!-- 15 -->\n<g id=\"node16\" class=\"node\">\n<title>15</title>\n<polygon fill=\"none\" stroke=\"#000000\" points=\"1765.9429,-36 1621.9429,-36 1621.9429,0 1765.9429,0 1765.9429,-36\"/>\n<text text-anchor=\"middle\" x=\"1693.9429\" y=\"-14.3\" font-family=\"Times,serif\" font-size=\"14.00\" fill=\"#000000\">&quot;Toshiba&quot;^^xsd:string</text>\n</g>\n<!-- 16&#45;&gt;5 -->\n<g id=\"edge12\" class=\"edge\">\n<title>16&#45;&gt;5</title>\n<path fill=\"none\" stroke=\"#000000\" d=\"M1613.3845,-87.3943C1603.6948,-74.8122 1590.5056,-57.6859 1579.6545,-43.5957\"/>\n<polygon fill=\"#000000\" stroke=\"#000000\" points=\"1582.1271,-41.07 1573.2525,-35.2827 1576.5811,-45.3411 1582.1271,-41.07\"/>\n<text text-anchor=\"middle\" x=\"1620.9429\" y=\"-57.8\" font-family=\"Times,serif\" font-size=\"14.00\" fill=\"#000000\">rdf:type</text>\n</g>\n<!-- 16&#45;&gt;15 -->\n<g id=\"edge6\" class=\"edge\">\n<title>16&#45;&gt;15</title>\n<path fill=\"none\" stroke=\"#000000\" d=\"M1640.5014,-87.3943C1650.001,-75.0589 1662.8643,-58.3558 1673.5903,-44.428\"/>\n<polygon fill=\"#000000\" stroke=\"#000000\" points=\"1676.6149,-46.2369 1679.9434,-36.1785 1671.0689,-41.9658 1676.6149,-46.2369\"/>\n<text text-anchor=\"middle\" x=\"1688.4429\" y=\"-57.8\" font-family=\"Times,serif\" font-size=\"14.00\" fill=\"#000000\">gr:name</text>\n</g>\n</g>\n</svg>\n"
          },
          "metadata": {}
        }
      ]
    },
    {
      "cell_type": "markdown",
      "metadata": {
        "id": "HmsRVEOZAhTg"
      },
      "source": [
        "## **SHACL Constraints** \n",
        "\n"
      ]
    },
    {
      "cell_type": "markdown",
      "metadata": {
        "id": "3z_GauiCMcU4"
      },
      "source": [
        "Berikut adalah aturan-aturan SHACL pada vocabulary yang telah dibuat sebelumnya: \n",
        "* **SHACL *instance* **```gr:SomeItems```** ...\n",
        " * ...  hanya dapat memiliki satu *value* untuk properti ```gr:category```, dan *value* ini bersifat literal dengan tipe data ```xsd:string```.\n",
        " * ...  dapat memiliki jumlah *value* yang tak terbatas untuk properti ```gr:hasBrand```, dan *value* hanya dapat diambil dari class ```ex:Brand```.\n",
        " * ... tidak dapat memiliki *value* untuk properti apapun selain terhadap properti ```gr:category``` dan ```gr:hasBrand```.\n",
        "\n",
        "<br>\n",
        "\n",
        "* **SHACL *instance* **```gr:Brand```** ...\n",
        " * ... hanya dapat memiliki satu *value* untuk properti ```gr:name```, dan *value* ini bersifat literal dengan tipe data ```xsd:string```.\n",
        " * ...  tidak dapat memiliki *value* untuk properti apapun selain terhadap properti ```gr:name```.\n",
        "\n",
        "<br>\n",
        "\n",
        "* **SHACL *instance* ```gr:UnitPriceSpecification```** ...\n",
        " * ...  dapat memiliki jumlah *value* yang tak terbatas untuk properti ```gr:hasCurrencyValue```, dan *value* ini bersifat literal dengan tipe data ```xsd:integer```.\n",
        " * ... tidak dapat memiliki *value* untuk properti apapun selain terhadap properti ```gr:hasCurrencyValue```.\n",
        "\n",
        "<br>\n",
        "\n",
        "* **SHACL *instance* ```s:AggregateRating```** ...\n",
        " * ... dapat memiliki jumlah *value* yang tak terbatas untuk properti ```gr:ratingValue```, dan *value* ini bersifat literal dengan tipe data ```xsd:integer```.\n",
        " * ... dapat memiliki jumlah *value* yang tak terbatas untuk properti ```gr:reviewCount```, dan *value* ini bersifat literal dengan tipe data ```xsd:integer```.\n",
        " * ... tidak dapat memiliki *value* untuk properti apapun selain terhadap properti ```gr:ratingValue``` dan ```gr:reviewCount``` .\n",
        "\n",
        "<br>\n",
        "\n",
        "* **SHACL *instance* ```gr:ProductOrServiceModel```** ...\n",
        " * ... dapat memiliki jumlah *value* yang tak terbatas untuk properti ```gr:name```, dan *value* ini bersifat literal dengan tipe data ```xsd:string```.\n",
        " * ... hanya dapat memiliki satu *value* untuk properti ```gr:hasBrand```, dan *value* hanya dapat diambil dari class ```gr:Brand```.\n",
        " * ... hanya dapat memiliki satu *value* untuk properti ```gr:hasPriceSpecification```, dan *value* hanya dapat diambil dari class ```gr:Harga```.\n",
        " * ... hanya dapat memiliki satu *value* untuk properti ```foaf:page```.\n",
        " * ... hanya dapat memiliki satu *value* untuk properti ```s:dateCreated```, dan *value* ini bersifat literal dengan tipe data ```xsd:date```.\n",
        " * ... hanya dapat memiliki satu *value* untuk properti ```s:aggregateRating```, dan *value* hanya dapat diambil dari class ```s:AggregateRating```.\n",
        " * ... tidak dapat memiliki *value* untuk properti apapun selain terhadap properti ```gr:name```, ```gr:hasBrand```,```gr:hasPriceSpecification```, ```foaf:page```, ```s:dateCreated```, dan ```s:aggregateRating```.\n",
        "\n",
        "<br>"
      ]
    },
    {
      "cell_type": "markdown",
      "metadata": {
        "id": "jVpy4cLpdifN"
      },
      "source": [
        "Aturan SHACL tersebut kemudian dimasukkan ke dalam variabel ```shapes_graph``` yang kemudian akan dilakukan validasi terhadap salah satu instancenya menggunakan library *pyshacl*.\n",
        "\n",
        "<br>"
      ]
    },
    {
      "cell_type": "code",
      "metadata": {
        "id": "nXZL4AMNA5uR"
      },
      "source": [
        "shapes_graph = \"\"\"\n",
        "@prefix sh:     <http://www.w3.org/ns/shacl#> .\n",
        "@prefix xsd:    <http://www.w3.org/2001/XMLSchema#> .\n",
        "@prefix schema: <http://schema.org/> .\n",
        "@prefix ex: <http://example.com/> .\n",
        "@prefix gr: <http://purl.org/goodrelations/v1#> .\n",
        "@prefix s: <http://schema.org/> .\n",
        "@prefix foaf: <http://xmlns.com/foaf/0.1/> .\n",
        "\n",
        "ex:CategoryShape a sh:NodeShape;\n",
        "sh:targetClass gr:SomeItems;\n",
        "    sh:property [\n",
        "        sh:path gr:category ;\n",
        "        sh:datatype xsd:string ;\n",
        "        sh:maxCount 1;\n",
        "    ];\n",
        "\n",
        "    sh:property [\n",
        "        sh:path gr:hasBrand ;\n",
        "        sh:class gr:Brand;\n",
        "    ].\n",
        "\n",
        "gr:BrandShape a sh:NodeShape;\n",
        "sh:targetClass gr:Brand;\n",
        "    sh:property [\n",
        "        sh:path gr:name ;\n",
        "        sh:datatype xsd:string ;\n",
        "        sh:maxCount 1;\n",
        "    ].\n",
        "\n",
        "ex:HargaShape a sh:NodeShape;\n",
        "sh:targetClass gr:UnitPriceSpecification;\n",
        "    sh:property [\n",
        "        sh:path gr:hasCurrencyValue ;\n",
        "        sh:datatype xsd:integer ;\n",
        "    ].\n",
        "\n",
        "ex:RatingShape a sh:NodeShape;\n",
        "sh:targetClass s:AggregateRating;\n",
        "    sh:property [\n",
        "        sh:path s:ratingValue;\n",
        "        sh:datatype xsd:integer ;\n",
        "    ];\n",
        "    sh:property [\n",
        "        sh:path s:reviewCount;\n",
        "        sh:datatype xsd:integer ;\n",
        "    ].\n",
        "\n",
        "ex:ProductShape a sh:NodeShape;\n",
        "sh:targetClass gr:ProductOrServiceModel;\n",
        "    sh:property [\n",
        "        sh:path gr:name;\n",
        "        sh:datatype xsd:string ;\n",
        "    ];\n",
        "    sh:property [\n",
        "        sh:path gr:hasBrand ;\n",
        "        sh:class gr:Brand;\n",
        "        sh:maxCount 1;\n",
        "    ];\n",
        "    sh:property [\n",
        "        sh:path gr:hasPriceSpecification ;\n",
        "        sh:targetClass ex:Harga;\n",
        "        sh:maxCount 1;\n",
        "    ];\n",
        "    sh:property [\n",
        "        sh:path foaf:page ;\n",
        "        sh:maxCount 1;\n",
        "    ];\n",
        "    sh:property [\n",
        "        sh:path s:dateCreated ;\n",
        "        sh:datatype xsd:date ;\n",
        "        sh:maxCount 1;\n",
        "    ];\n",
        "   sh:property [\n",
        "        sh:path s:aggregateRating ;\n",
        "        sh:targetClass s:AggregateRating;\n",
        "        sh:maxCount 1;\n",
        "    ].\n",
        "\"\"\""
      ],
      "execution_count": null,
      "outputs": []
    },
    {
      "cell_type": "markdown",
      "metadata": {
        "id": "OOh_wHq1BSmT"
      },
      "source": [
        "## **Data Graph**\n",
        "\n"
      ]
    },
    {
      "cell_type": "markdown",
      "metadata": {
        "id": "z1AB8CzTeziN"
      },
      "source": [
        "Kemudian dibuat dua buah instance: : satu *instance* invalid (yang menyalahi aturan sebelumnya) dan satu *instance* valid (yang sesuai dengan aturan sebelumnya). Ini bertujuan agar perbedaan hasil SHACL antara *instance* dengan aturan yang benar dan salah dapat terlihat. Instance yang valid dimasukkan ke dalam variabel ```data_graph_valid``` dan instance yang invalid dimasukkan ke dalam variabel ```data_graph_invalid```.\n",
        "\n",
        "<br>"
      ]
    },
    {
      "cell_type": "code",
      "metadata": {
        "id": "Vek0ZSFnBdj9"
      },
      "source": [
        "data_graph_valid = \"\"\"\n",
        "@prefix sh:     <http://www.w3.org/ns/shacl#> .\n",
        "@prefix xsd:    <http://www.w3.org/2001/XMLSchema#> .\n",
        "@prefix schema: <http://schema.org/> .\n",
        "@prefix ex: <http://example.com/> .\n",
        "@prefix gr: <http://purl.org/goodrelations/v1#> .\n",
        "@prefix s: <http://schema.org/> .\n",
        "@prefix foaf: <http://xmlns.com/foaf/0.1/> .\n",
        "\n",
        "## Data Valid\n",
        "ex:Toshiba a gr:Brand;\n",
        "    gr:name \"Toshiba\"^^xsd:string.\n",
        "\n",
        "ex:beli-smart-tv a gr:SomeItems;\n",
        "  gr:category \"beli-smart-tv\"^^xsd:string;\n",
        "  gr:hasBrand ex:Toshiba .\n",
        "\n",
        "ex:Harga a gr:UnitPriceSpecification;\n",
        "  gr:hasCurrencyValue \"3788000\"^^xsd:integer.\n",
        "\n",
        "  ex:TOSHIBA_Smart_HD_LED_TV_40 a gr:ProductOrServiceModel;\n",
        "  gr:name \"TOSHIBA Smart HD LED TV 40\"^^xsd:string;\n",
        "  gr:hasBrand ex:Toshiba;\n",
        "  gr:hasPriceSpecification ex:Harga;\n",
        "  foaf:page <https://www.lazada.co.id/products/toshiba-smart-hd-led-tv-40.html>;\n",
        "  s:aggregateRating [ a s:AggregateRating;\n",
        "                         s:ratingValue \"3\"^^xsd:integer;\n",
        "                         s:reviewCount \"3\"^^xsd:integer;\n",
        "                          ];\n",
        "  s:dateCreated \"2019-10-02\"^^xsd:date.\n",
        "\n",
        "\"\"\""
      ],
      "execution_count": null,
      "outputs": []
    },
    {
      "cell_type": "code",
      "metadata": {
        "id": "HjCNyF63l8DX"
      },
      "source": [
        "data_graph_invalid = \"\"\"\n",
        "@prefix sh:     <http://www.w3.org/ns/shacl#> .\n",
        "@prefix xsd:    <http://www.w3.org/2001/XMLSchema#> .\n",
        "@prefix schema: <http://schema.org/> .\n",
        "@prefix ex: <http://example.com/> .\n",
        "@prefix gr: <http://purl.org/goodrelations/v1#> .\n",
        "@prefix s: <http://schema.org/> .\n",
        "@prefix foaf: <http://xmlns.com/foaf/0.1/> .\n",
        "\n",
        "## Data Invalid\n",
        "ex:Toshiba a ex:Brand;\n",
        "    gr:name \"Toshiba\"^^xsd:string.\n",
        "\n",
        "ex:beli-smart-tv a gr:SomeItems;\n",
        "  gr:category \"beli-smart-tv\"^^xsd:string;\n",
        "  gr:hasBrand ex:Toshiba .\n",
        "\n",
        "ex:Harga a gr:UnitPriceSpecification;\n",
        "  gr:hasCurrencyValue \"3788000\"^^xsd:integer.\n",
        "\n",
        "  ex:TOSHIBA_Smart_HD_LED_TV_40 a gr:ProductOrServiceModel;\n",
        "  gr:name \"TOSHIBA Smart HD LED TV 40\"^^xsd:integer;\n",
        "  gr:hasBrand ex:Toshiba;\n",
        "  gr:hasPriceSpecification ex:Harga;\n",
        "  foaf:page <https://www.lazada.co.id/products/toshiba-smart-hd-led-tv-40.html>;\n",
        "  s:aggregateRating [ a s:AggregateRating;\n",
        "                         s:ratingValue \"3\"^^xsd:integer;\n",
        "                         s:reviewCount \"3\"^^xsd:integer;\n",
        "                          ];\n",
        "  s:dateCreated \"2019-10-02\"^^xsd:date.\n",
        "\n",
        "\"\"\""
      ],
      "execution_count": null,
      "outputs": []
    },
    {
      "cell_type": "markdown",
      "metadata": {
        "id": "aloJHbjCOhE3"
      },
      "source": [
        "## **Validasi SHACL**"
      ]
    },
    {
      "cell_type": "markdown",
      "metadata": {
        "id": "4Ylg4CNjfZ4j"
      },
      "source": [
        "Terakhir, dilakukan validasi dua *instance* sebelumnya menggunakan *psyhacl* berdasarkan aturan yang ada pada variabel ```shapes_graph```. Dibuat sebuah function *validate_instance* untuk melakukan validasi.\n",
        "\n",
        "<br>"
      ]
    },
    {
      "cell_type": "code",
      "metadata": {
        "colab": {
          "base_uri": "https://localhost:8080/"
        },
        "id": "9iG2gAiyI0Gy",
        "outputId": "b523641c-af8d-4501-cee9-0c38e13530a5"
      },
      "source": [
        "!pip3 install --no-input --quiet pyshacl"
      ],
      "execution_count": null,
      "outputs": [
        {
          "output_type": "stream",
          "name": "stdout",
          "text": [
            "\u001b[31mERROR: pip's dependency resolver does not currently take into account all the packages that are installed. This behaviour is the source of the following dependency conflicts.\n",
            "sparqlslurper 0.4.1 requires rdflib~=5.0, but you have rdflib 6.0.1 which is incompatible.\n",
            "pyshexc 0.8.3 requires rdflib~=5.0, but you have rdflib 6.0.1 which is incompatible.\n",
            "pyshex 0.7.20 requires rdflib~=5.0, but you have rdflib 6.0.1 which is incompatible.\u001b[0m\n"
          ]
        }
      ]
    },
    {
      "cell_type": "code",
      "metadata": {
        "id": "5IFP517UftE3"
      },
      "source": [
        "import pyshacl\n",
        "\n",
        "def validate_instance (data):\n",
        "    results = pyshacl.validate(\n",
        "    data,\n",
        "    shacl_graph=shapes_graph,\n",
        "    data_graph_format=\"ttl\",\n",
        "    shacl_graph_format=\"ttl\",\n",
        "    inference=\"rdfs\",\n",
        "    debug=True,\n",
        "    serialize_report_graph=\"ttl\",\n",
        "    )\n",
        "\n",
        "    conforms, report_graph, report_text = results\n",
        "    return conforms"
      ],
      "execution_count": null,
      "outputs": []
    },
    {
      "cell_type": "markdown",
      "metadata": {
        "id": "CwqW-AiXlSuS"
      },
      "source": [
        "Jika *instance* telah memenuhi aturan yang dibuat sebelumnya, maka akan  muncul ```True``` pada output.\n",
        "\n",
        "<br>"
      ]
    },
    {
      "cell_type": "code",
      "metadata": {
        "colab": {
          "base_uri": "https://localhost:8080/"
        },
        "id": "zBI9-75jKvBZ",
        "outputId": "420ef47c-17b6-4e64-fa1b-35345fdc4802"
      },
      "source": [
        "print(\"data_graph_valid conforms?\", validate_instance(data_graph_valid))"
      ],
      "execution_count": null,
      "outputs": [
        {
          "output_type": "stream",
          "name": "stdout",
          "text": [
            "data_graph_valid conforms? True\n"
          ]
        }
      ]
    },
    {
      "cell_type": "markdown",
      "metadata": {
        "id": "WByOoEwllimg"
      },
      "source": [
        "Namun jika *instance* masih belum memenuhi aturan, maka akan akan muncul ```False``` pada output dan akan dijelaskan di bagian mana pelanggaran aturan tersebut terjadi.\n",
        "\n",
        "<br>"
      ]
    },
    {
      "cell_type": "code",
      "metadata": {
        "colab": {
          "base_uri": "https://localhost:8080/"
        },
        "id": "cxMU4WHahHQi",
        "outputId": "e6a2cfc6-a86c-4237-b801-a510c1536ff8"
      },
      "source": [
        "print(\"data_graph_invalid conforms?\", validate_instance(data_graph_invalid))"
      ],
      "execution_count": null,
      "outputs": [
        {
          "output_type": "stream",
          "name": "stderr",
          "text": [
            "Constraint Violation in ClassConstraintComponent (http://www.w3.org/ns/shacl#ClassConstraintComponent):\n",
            "\tSeverity: sh:Violation\n",
            "\tSource Shape: [ sh:class gr:Brand ; sh:path gr:hasBrand ]\n",
            "\tFocus Node: ex:beli-smart-tv\n",
            "\tValue Node: ex:Toshiba\n",
            "\tResult Path: gr:hasBrand\n",
            "\tMessage: Value does not have class gr:Brand\n",
            "\n",
            "Constraint Violation in DatatypeConstraintComponent (http://www.w3.org/ns/shacl#DatatypeConstraintComponent):\n",
            "\tSeverity: sh:Violation\n",
            "\tSource Shape: [ sh:datatype xsd:string ; sh:path gr:name ]\n",
            "\tFocus Node: ex:TOSHIBA_Smart_HD_LED_TV_40\n",
            "\tValue Node: Literal(\"TOSHIBA Smart HD LED TV 40\" = None, datatype=xsd:integer)\n",
            "\tResult Path: gr:name\n",
            "\tMessage: Value is not Literal with datatype xsd:string\n",
            "\n",
            "Constraint Violation in ClassConstraintComponent (http://www.w3.org/ns/shacl#ClassConstraintComponent):\n",
            "\tSeverity: sh:Violation\n",
            "\tSource Shape: [ sh:class gr:Brand ; sh:maxCount Literal(\"1\", datatype=xsd:integer) ; sh:path gr:hasBrand ]\n",
            "\tFocus Node: ex:TOSHIBA_Smart_HD_LED_TV_40\n",
            "\tValue Node: ex:Toshiba\n",
            "\tResult Path: gr:hasBrand\n",
            "\tMessage: Value does not have class gr:Brand\n",
            "\n"
          ]
        },
        {
          "output_type": "stream",
          "name": "stdout",
          "text": [
            "data_graph_invalid conforms? False\n"
          ]
        }
      ]
    },
    {
      "cell_type": "markdown",
      "metadata": {
        "id": "mYVSLWksB1yT"
      },
      "source": [
        "## Daftar Pustaka\n",
        "\n",
        "\n",
        "\n",
        "\n",
        "\n"
      ]
    },
    {
      "cell_type": "markdown",
      "metadata": {
        "id": "TTra3MEFKc9D"
      },
      "source": [
        "\n",
        "1.   Rakhmawati, N. A. (2015). Semantic Web dan Linked Data. Yogyakarta, Indonesia: SiBuku.\n",
        "2. Rakha Abadi Susilo, Gary Dimitri Hamidi, & Nur Aini Rakhmawati. (2021). garydh/tekweb-tugas-4/: Release v0.1 (v0.1) [Data set]. Zenodo. DOI: https://doi.org/10.5281/zenodo.5520953\n",
        "3. Hamidi, Gary & Susilo, Rakha & Rakhmawati, Nur. (2021). Vocabulary Lazada Indonesian Reviews. https://doi.org/10.13140/RG.2.2.26475.26400. \n",
        "4. Holger Knublauch and Dimitris Kontokostas. Shapes constraint language (SHACL). W3C Working Draft, https://www.w3.org/TR/2017/WD-shacl-20170202\n",
        "5. Rakha Abadi Susilo, Gary Dimitri Hamidi, & Nur Aini Rakhmawati. (2021). garydh/tekweb-tugas-5/: Release v0.1 (v0.1). Zenodo. DOI: https://doi.org/10.5281/zenodo.5548630"
      ]
    }
  ]
}